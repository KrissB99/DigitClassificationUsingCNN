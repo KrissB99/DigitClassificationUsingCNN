{
  "cells": [
    {
      "cell_type": "markdown",
      "source": [
        "## Informacje o procesorze"
      ],
      "metadata": {
        "id": "E2iVswUnpeQo"
      }
    },
    {
      "cell_type": "code",
      "source": [
        "gpu_info = !nvidia-smi\n",
        "gpu_info = '\\n'.join(gpu_info)\n",
        "if gpu_info.find('failed') >= 0:\n",
        "  print('Not connected to a GPU')\n",
        "else:\n",
        "  print(gpu_info)"
      ],
      "metadata": {
        "colab": {
          "base_uri": "https://localhost:8080/"
        },
        "id": "U2fZgOjGph_r",
        "outputId": "230cddc1-731c-4b32-9d05-d5ac1ac102b4"
      },
      "execution_count": null,
      "outputs": [
        {
          "output_type": "stream",
          "name": "stdout",
          "text": [
            "Fri Apr 12 12:33:29 2024       \n",
            "+---------------------------------------------------------------------------------------+\n",
            "| NVIDIA-SMI 535.104.05             Driver Version: 535.104.05   CUDA Version: 12.2     |\n",
            "|-----------------------------------------+----------------------+----------------------+\n",
            "| GPU  Name                 Persistence-M | Bus-Id        Disp.A | Volatile Uncorr. ECC |\n",
            "| Fan  Temp   Perf          Pwr:Usage/Cap |         Memory-Usage | GPU-Util  Compute M. |\n",
            "|                                         |                      |               MIG M. |\n",
            "|=========================================+======================+======================|\n",
            "|   0  Tesla T4                       Off | 00000000:00:04.0 Off |                    0 |\n",
            "| N/A   44C    P8               9W /  70W |      0MiB / 15360MiB |      0%      Default |\n",
            "|                                         |                      |                  N/A |\n",
            "+-----------------------------------------+----------------------+----------------------+\n",
            "                                                                                         \n",
            "+---------------------------------------------------------------------------------------+\n",
            "| Processes:                                                                            |\n",
            "|  GPU   GI   CI        PID   Type   Process name                            GPU Memory |\n",
            "|        ID   ID                                                             Usage      |\n",
            "|=======================================================================================|\n",
            "|  No running processes found                                                           |\n",
            "+---------------------------------------------------------------------------------------+\n"
          ]
        }
      ]
    },
    {
      "cell_type": "markdown",
      "source": [
        "# Instalacja i wersje pakietów"
      ],
      "metadata": {
        "id": "YpbHD5PipkAO"
      }
    },
    {
      "cell_type": "code",
      "source": [
        "pip install colorama"
      ],
      "metadata": {
        "colab": {
          "base_uri": "https://localhost:8080/"
        },
        "id": "mTDevd_YbyCr",
        "outputId": "1660e274-6204-4341-8dc5-f004c7d73f61"
      },
      "execution_count": null,
      "outputs": [
        {
          "output_type": "stream",
          "name": "stdout",
          "text": [
            "Collecting colorama\n",
            "  Downloading colorama-0.4.6-py2.py3-none-any.whl (25 kB)\n",
            "Installing collected packages: colorama\n",
            "Successfully installed colorama-0.4.6\n"
          ]
        }
      ]
    },
    {
      "cell_type": "code",
      "source": [
        "import torch\n",
        "import time\n",
        "import torchvision\n",
        "import pandas as pd\n",
        "import numpy as np\n",
        "import matplotlib as plt\n",
        "from colorama import Fore"
      ],
      "metadata": {
        "id": "rzDJJxDoplta"
      },
      "execution_count": null,
      "outputs": []
    },
    {
      "cell_type": "code",
      "source": [
        "!python --version\n",
        "print('Torch: ', torch.__version__)\n",
        "print('Torchvision: ', torchvision.__version__)\n",
        "print('Pandas: ', pd.__version__)\n",
        "print('Numpy: ', np.__version__)\n",
        "print('Matplotlib: ', plt.__version__)"
      ],
      "metadata": {
        "colab": {
          "base_uri": "https://localhost:8080/"
        },
        "id": "HnjcREFDpst9",
        "outputId": "5f155639-cc4f-4c0d-d559-88e1e4574be8"
      },
      "execution_count": null,
      "outputs": [
        {
          "output_type": "stream",
          "name": "stdout",
          "text": [
            "Python 3.10.12\n",
            "Torch:  2.2.1+cu121\n",
            "Torchvision:  0.17.1+cu121\n",
            "Pandas:  2.0.3\n",
            "Numpy:  1.25.2\n",
            "Matplotlib:  3.7.1\n"
          ]
        }
      ]
    },
    {
      "cell_type": "code",
      "source": [
        "DEVICE = torch.device(\"cuda:0\" if torch.cuda.is_available() else \"cpu\")\n",
        "DEVICE"
      ],
      "metadata": {
        "id": "EjtlF-CC0-fw",
        "colab": {
          "base_uri": "https://localhost:8080/"
        },
        "outputId": "b5184b4f-658f-46fc-fe11-4a047b554eff"
      },
      "execution_count": null,
      "outputs": [
        {
          "output_type": "execute_result",
          "data": {
            "text/plain": [
              "device(type='cuda', index=0)"
            ]
          },
          "metadata": {},
          "execution_count": 9
        }
      ]
    },
    {
      "cell_type": "markdown",
      "source": [
        "# Pobranie i przygotowanie zestawu danych\n"
      ],
      "metadata": {
        "id": "FBw2oD1Cp7Wj"
      }
    },
    {
      "cell_type": "code",
      "source": [
        "from torchvision import datasets, transforms\n",
        "from torch.utils.data import DataLoader, ConcatDataset, random_split\n",
        "\n",
        "transform = transforms.Compose([\n",
        "    transforms.Resize((224, 224)),  # Zmniana do wymaganych wymiarów dla AlexNet\n",
        "    transforms.Grayscale(num_output_channels=3),  # Konwersja do 3 kanałów\n",
        "    transforms.ToTensor(),\n",
        "])\n",
        "\n",
        "# Pobranie zbioru testowego i treningowego w stosunku 70/10\n",
        "mnist_train = datasets.MNIST(root='./data', train=True, download=True, transform=transform)\n",
        "mnist_test = datasets.MNIST(root='./data', train=False, download=True, transform=transform)\n",
        "\n",
        "# Złączenie zbioru testowego i treningowego\n",
        "combined_data = ConcatDataset([mnist_train, mnist_test])"
      ],
      "metadata": {
        "id": "ONuY6o8_YVkW",
        "colab": {
          "base_uri": "https://localhost:8080/"
        },
        "outputId": "a6996b62-966c-4211-c3c3-b0f33195fe7e"
      },
      "execution_count": null,
      "outputs": [
        {
          "output_type": "stream",
          "name": "stdout",
          "text": [
            "Downloading http://yann.lecun.com/exdb/mnist/train-images-idx3-ubyte.gz\n",
            "Downloading http://yann.lecun.com/exdb/mnist/train-images-idx3-ubyte.gz to ./data/MNIST/raw/train-images-idx3-ubyte.gz\n"
          ]
        },
        {
          "output_type": "stream",
          "name": "stderr",
          "text": [
            "100%|██████████| 9912422/9912422 [00:00<00:00, 223858710.25it/s]"
          ]
        },
        {
          "output_type": "stream",
          "name": "stdout",
          "text": [
            "Extracting ./data/MNIST/raw/train-images-idx3-ubyte.gz to ./data/MNIST/raw\n"
          ]
        },
        {
          "output_type": "stream",
          "name": "stderr",
          "text": [
            "\n"
          ]
        },
        {
          "output_type": "stream",
          "name": "stdout",
          "text": [
            "\n",
            "Downloading http://yann.lecun.com/exdb/mnist/train-labels-idx1-ubyte.gz\n",
            "Downloading http://yann.lecun.com/exdb/mnist/train-labels-idx1-ubyte.gz to ./data/MNIST/raw/train-labels-idx1-ubyte.gz\n"
          ]
        },
        {
          "output_type": "stream",
          "name": "stderr",
          "text": [
            "100%|██████████| 28881/28881 [00:00<00:00, 23710255.20it/s]\n"
          ]
        },
        {
          "output_type": "stream",
          "name": "stdout",
          "text": [
            "Extracting ./data/MNIST/raw/train-labels-idx1-ubyte.gz to ./data/MNIST/raw\n",
            "\n",
            "Downloading http://yann.lecun.com/exdb/mnist/t10k-images-idx3-ubyte.gz\n",
            "Downloading http://yann.lecun.com/exdb/mnist/t10k-images-idx3-ubyte.gz to ./data/MNIST/raw/t10k-images-idx3-ubyte.gz\n"
          ]
        },
        {
          "output_type": "stream",
          "name": "stderr",
          "text": [
            "100%|██████████| 1648877/1648877 [00:00<00:00, 83026896.49it/s]"
          ]
        },
        {
          "output_type": "stream",
          "name": "stdout",
          "text": [
            "Extracting ./data/MNIST/raw/t10k-images-idx3-ubyte.gz to ./data/MNIST/raw\n"
          ]
        },
        {
          "output_type": "stream",
          "name": "stderr",
          "text": [
            "\n"
          ]
        },
        {
          "output_type": "stream",
          "name": "stdout",
          "text": [
            "\n",
            "Downloading http://yann.lecun.com/exdb/mnist/t10k-labels-idx1-ubyte.gz\n",
            "Downloading http://yann.lecun.com/exdb/mnist/t10k-labels-idx1-ubyte.gz to ./data/MNIST/raw/t10k-labels-idx1-ubyte.gz\n"
          ]
        },
        {
          "output_type": "stream",
          "name": "stderr",
          "text": [
            "100%|██████████| 4542/4542 [00:00<00:00, 7307452.54it/s]\n"
          ]
        },
        {
          "output_type": "stream",
          "name": "stdout",
          "text": [
            "Extracting ./data/MNIST/raw/t10k-labels-idx1-ubyte.gz to ./data/MNIST/raw\n",
            "\n"
          ]
        }
      ]
    },
    {
      "cell_type": "code",
      "source": [
        "print(f'Ilość danych ogółem: ', len(combined_data))\n",
        "\n",
        "print(f'{Fore.GREEN}Obrazy zostały załadowane pomyślnie!{Fore.BLACK}')"
      ],
      "metadata": {
        "colab": {
          "base_uri": "https://localhost:8080/"
        },
        "id": "F6sChyC1ZnHc",
        "outputId": "d0fadc38-6fb1-4499-d4ba-56f32943eef4"
      },
      "execution_count": null,
      "outputs": [
        {
          "output_type": "stream",
          "name": "stdout",
          "text": [
            "Ilość danych ogółem:  70000\n",
            "\u001b[32mObrazy zostały załadowane pomyślnie!\u001b[30m\n"
          ]
        }
      ]
    },
    {
      "cell_type": "markdown",
      "source": [
        "# Funkcje niestandardowe\n",
        "\n",
        "___"
      ],
      "metadata": {
        "id": "DGeak3ZJqA-i"
      }
    },
    {
      "cell_type": "code",
      "source": [
        "import random\n",
        "\n",
        "# Ustawienie ziarna losowości dla powtarzalności wyników\n",
        "def set_seed(seed_value: int = 42):\n",
        "    torch.manual_seed(seed_value)\n",
        "    torch.cuda.manual_seed_all(seed_value)\n",
        "    torch.backends.cudnn.deterministic = True\n",
        "    torch.backends.cudnn.benchmark = False\n",
        "    np.random.seed(seed_value)\n",
        "    random.seed(seed_value)"
      ],
      "metadata": {
        "id": "lwuZIGIks7u4"
      },
      "execution_count": null,
      "outputs": []
    },
    {
      "cell_type": "code",
      "source": [
        "from torch.utils.data import random_split\n",
        "\n",
        "def split_dataset(dataset):\n",
        "  # Obliczanuie długości dla zbioru testowego i treningowego w stosunku 80/20\n",
        "  train_size = int(0.8 * len(dataset))\n",
        "  validation_size = len(dataset) - train_size\n",
        "\n",
        "  # Podzielenie na dwa zestawy danych\n",
        "  train_ds, validation_ds = random_split(dataset, [train_size, validation_size])\n",
        "  return train_ds, validation_ds"
      ],
      "metadata": {
        "id": "NBZJld5ncmzP"
      },
      "execution_count": null,
      "outputs": []
    },
    {
      "cell_type": "code",
      "source": [
        "import pandas as pd\n",
        "\n",
        "INDEXES = [\"Czas treningu\", \"Dokładność treningowa\", \"Dokładność walidacyjna\", \"Strata treningowa\", \"Strata walidacyjna\"]\n",
        "\n",
        "def create_df(output_data: dict) -> pd.DataFrame:\n",
        "  return pd.DataFrame(output_data, index=INDEXES)"
      ],
      "metadata": {
        "id": "l8rlmFc6xWSM"
      },
      "execution_count": null,
      "outputs": []
    },
    {
      "cell_type": "markdown",
      "source": [
        "## AlexNet model"
      ],
      "metadata": {
        "id": "K_O2QyKBw57J"
      }
    },
    {
      "cell_type": "code",
      "source": [
        "from torchvision.models import alexnet\n",
        "import torch.nn as nn\n",
        "import torch.optim as optim\n",
        "\n",
        "def create_alexnet_model():\n",
        "    model = alexnet(pretrained=True)\n",
        "    # Dostosowanie do 10 klas dla zestawu MNIST\n",
        "    model.classifier[6] = nn.Linear(model.classifier[6].in_features, 10)\n",
        "    criterion = nn.CrossEntropyLoss()\n",
        "    optimizer = optim.Adam(model.parameters(), lr=0.001)\n",
        "    return model, criterion, optimizer"
      ],
      "metadata": {
        "id": "-P32yZfud8Kr"
      },
      "execution_count": null,
      "outputs": []
    },
    {
      "cell_type": "code",
      "source": [
        "import torch\n",
        "import torch.nn as nn\n",
        "import torch.optim as optim\n",
        "from torchvision import datasets, transforms, models\n",
        "from torch.utils.data import DataLoader, Subset\n",
        "from collections import defaultdict\n",
        "\n",
        "def train_alexnet_on_mnist(test_loader, val_loader, epochs=10, device=DEVICE) -> list:\n",
        "    output_data_alexnet = defaultdict(list)\n",
        "    model.to(device)\n",
        "\n",
        "    for epoch in range(epochs):\n",
        "        model.train()\n",
        "        running_loss, correct, total = 0.0, 0, 0\n",
        "\n",
        "        for images, labels in train_loader:\n",
        "            images, labels = images.to(device), labels.to(device)\n",
        "            optimizer.zero_grad()\n",
        "            outputs = model(images)\n",
        "            loss = criterion(outputs, labels)\n",
        "            loss.backward()\n",
        "            optimizer.step()\n",
        "\n",
        "            running_loss += loss.item()\n",
        "            _, predicted = torch.max(outputs.data, 1)\n",
        "            total += labels.size(0)\n",
        "            correct += (predicted == labels).sum().item()\n",
        "\n",
        "        train_loss = running_loss / len(train_loader)\n",
        "        train_accuracy = 100 * correct / total\n",
        "\n",
        "        # Validation\n",
        "        model.eval()\n",
        "        running_loss, correct, total = 0.0, 0, 0\n",
        "\n",
        "        with torch.no_grad():\n",
        "            for images, labels in val_loader:\n",
        "                images, labels = images.to(device), labels.to(device)\n",
        "                outputs = model(images)\n",
        "                loss = criterion(outputs, labels)\n",
        "\n",
        "                running_loss += loss.item()\n",
        "                _, predicted = torch.max(outputs.data, 1)\n",
        "                total += labels.size(0)\n",
        "                correct += (predicted == labels).sum().item()\n",
        "\n",
        "        test_loss = running_loss / len(val_loader)\n",
        "        test_accuracy = 100 * correct / total\n",
        "\n",
        "        output_data_alexnet[epoch] = [train_accuracy, test_accuracy, train_loss, test_loss]\n",
        "        print(f'Epoch {epoch+1}/{epochs} | loss: {train_loss:.2f}% - accuracy: {train_accuracy:.2f}%, val_loss: {test_loss:.2f}% - val_accuracy: {test_accuracy:.2f}%')\n",
        "\n",
        "    return output_data_alexnet\n"
      ],
      "metadata": {
        "id": "BTJst0zpfdLJ"
      },
      "execution_count": null,
      "outputs": []
    },
    {
      "cell_type": "markdown",
      "source": [
        "## Plotting"
      ],
      "metadata": {
        "id": "cBQFT2fIw_KE"
      }
    },
    {
      "cell_type": "code",
      "source": [
        "import matplotlib.pyplot as plt\n",
        "\n",
        "def plot_results(model_df: pd.DataFrame) -> None:\n",
        "    # Transpozycja DataFrame dla łatwiejszego plotowania\n",
        "    df_t = model_df.T\n",
        "\n",
        "    # Tworzenie wykresu\n",
        "    plt.figure(figsize=(10, 6))\n",
        "\n",
        "    # Plotowanie dokładności\n",
        "    plt.plot(df_t.index, df_t[\"Dokładność treningowa\"], '-o', label='Dokładność testowa', color='red')\n",
        "    plt.plot(df_t.index, df_t[\"Dokładność walidacyjna\"], '-o', label='Dokładność walidacyjna', color='orange')\n",
        "\n",
        "    # Plotowanie straty\n",
        "    plt.plot(df_t.index, df_t[\"Strata treningowa\"], '-o', label='Strata testowa', color='blue')\n",
        "    plt.plot(df_t.index, df_t[\"Strata walidacyjna\"], '-o', label='Strata walidacyjna', color='green')\n",
        "\n",
        "    # Dodanie tytułu i etykiet\n",
        "    plt.title('Dokładność i strata w zależności od ilości danych wejściowych')\n",
        "    plt.xlabel('Ilość danych wejściowych')\n",
        "    plt.ylabel('Wartości [%]')\n",
        "\n",
        "    # Dodanie legendy\n",
        "    plt.legend()\n",
        "\n",
        "    # Pokazanie wykresu\n",
        "    plt.show()"
      ],
      "metadata": {
        "id": "ASy9y_4Bsl_I"
      },
      "execution_count": null,
      "outputs": []
    },
    {
      "cell_type": "code",
      "source": [
        "import matplotlib.pyplot as plt\n",
        "\n",
        "def plot_accuracy_and_loss(data) -> None:\n",
        "    \"\"\" Tworzenie wykresów dokładności i straty dla modelu\n",
        "\n",
        "    Args:\n",
        "        history (model): Wytrenowany model\n",
        "    \"\"\"\n",
        "    # Wykresy dokładności i straty\n",
        "    fig, axs = plt.subplots(2, 1, figsize=(8, 6))\n",
        "\n",
        "    # Wykres dokładności modelu\n",
        "    axs[0].plot(data['accuracy'], label=f'Dokładność testowa')\n",
        "    axs[0].plot(data['val_accuracy'], label='Dokładność walidacyjna')\n",
        "    axs[0].set_title(f'Dokładność modelu')\n",
        "    axs[0].set_ylabel('Dokładność [%]')\n",
        "    axs[0].set_xlabel('Liczba epok')\n",
        "    axs[0].legend(loc='lower right')\n",
        "    axs[0].yaxis.set_major_formatter(plt.FuncFormatter(lambda y, _: f'{y:.0f}'))\n",
        "\n",
        "    # Wykres starty modelu\n",
        "    axs[1].plot(data['loss'], label='Strata treningowa')\n",
        "    axs[1].plot(data['val_loss'], label='Strata walidacyjna')\n",
        "    axs[1].set_title(f'Strata modelu')\n",
        "    axs[1].set_ylabel('Strata [%]')\n",
        "    axs[1].set_xlabel('Liczba epok')\n",
        "    axs[1].legend(loc='upper right')\n",
        "    axs[1].yaxis.set_major_formatter(plt.FuncFormatter(lambda y, _: f'{y:.2f}'))\n",
        "\n",
        "    plt.tight_layout()\n",
        "    plt.show()"
      ],
      "metadata": {
        "id": "CkDiXyGqHkxL"
      },
      "execution_count": null,
      "outputs": []
    },
    {
      "cell_type": "markdown",
      "source": [
        "# Badanie optymalnej ilości wolumenu danych"
      ],
      "metadata": {
        "id": "cBeJ64KbxFtt"
      }
    },
    {
      "cell_type": "code",
      "source": [
        "# Ustawienie ziarna dla reprodukowalności\n",
        "np.random.seed(42)\n",
        "\n",
        "# Generowanie losowej liczby całkowitej z przedziału od 0 do 100\n",
        "seeds = [np.random.randint(0, 101) for i in range(0, 7)]\n",
        "seeds"
      ],
      "metadata": {
        "colab": {
          "base_uri": "https://localhost:8080/"
        },
        "id": "9Ain5dNicOFm",
        "outputId": "3475ff9f-dd9b-45b4-ca3b-74c71db66a34"
      },
      "execution_count": null,
      "outputs": [
        {
          "output_type": "execute_result",
          "data": {
            "text/plain": [
              "[51, 92, 14, 71, 60, 20, 82]"
            ]
          },
          "metadata": {},
          "execution_count": 19
        }
      ]
    },
    {
      "cell_type": "code",
      "execution_count": null,
      "metadata": {
        "colab": {
          "base_uri": "https://localhost:8080/"
        },
        "id": "Y1ULRHQQmsRH",
        "outputId": "13acac45-703c-4114-c292-d8387958fc3d"
      },
      "outputs": [
        {
          "output_type": "stream",
          "name": "stdout",
          "text": [
            "\n",
            "\u001b[32m---------------- Trening modelu AlexNet: 1/10000 ----------------\n",
            "\u001b[30m\n",
            "Epoch 1/10 | loss: 2.09% - accuracy: 19.14%, val_loss: 1.77% - val_accuracy: 25.90%\n",
            "Epoch 2/10 | loss: 1.34% - accuracy: 49.14%, val_loss: 0.49% - val_accuracy: 84.95%\n",
            "Epoch 3/10 | loss: 0.41% - accuracy: 88.16%, val_loss: 0.18% - val_accuracy: 95.15%\n",
            "Epoch 4/10 | loss: 0.20% - accuracy: 94.55%, val_loss: 0.08% - val_accuracy: 97.35%\n",
            "Epoch 5/10 | loss: 0.11% - accuracy: 96.75%, val_loss: 0.19% - val_accuracy: 95.85%\n",
            "Epoch 6/10 | loss: 0.11% - accuracy: 96.53%, val_loss: 0.06% - val_accuracy: 97.80%\n",
            "Epoch 7/10 | loss: 0.07% - accuracy: 97.66%, val_loss: 0.15% - val_accuracy: 95.70%\n",
            "Epoch 8/10 | loss: 0.07% - accuracy: 97.74%, val_loss: 0.20% - val_accuracy: 96.30%\n",
            "Epoch 9/10 | loss: 0.09% - accuracy: 97.58%, val_loss: 0.16% - val_accuracy: 96.25%\n",
            "Epoch 10/10 | loss: 0.07% - accuracy: 97.96%, val_loss: 0.08% - val_accuracy: 97.90%\n",
            "Trening ukończony w: 187.22752332687378 sekund\n",
            "\n",
            "\u001b[32m---------------- Trening modelu AlexNet: 2/20000 ----------------\n",
            "\u001b[30m\n",
            "Epoch 1/10 | loss: 0.50% - accuracy: 83.81%, val_loss: 0.15% - val_accuracy: 96.17%\n",
            "Epoch 2/10 | loss: 0.13% - accuracy: 96.21%, val_loss: 0.08% - val_accuracy: 98.05%\n",
            "Epoch 3/10 | loss: 0.10% - accuracy: 97.24%, val_loss: 0.07% - val_accuracy: 98.05%\n",
            "Epoch 4/10 | loss: 0.09% - accuracy: 97.70%, val_loss: 0.07% - val_accuracy: 98.15%\n",
            "Epoch 5/10 | loss: 0.08% - accuracy: 97.74%, val_loss: 0.07% - val_accuracy: 98.22%\n",
            "Epoch 6/10 | loss: 0.07% - accuracy: 98.03%, val_loss: 0.05% - val_accuracy: 98.55%\n",
            "Epoch 7/10 | loss: 0.07% - accuracy: 98.23%, val_loss: 0.09% - val_accuracy: 98.50%\n",
            "Epoch 8/10 | loss: 0.07% - accuracy: 98.04%, val_loss: 0.05% - val_accuracy: 98.70%\n",
            "Epoch 9/10 | loss: 0.07% - accuracy: 98.41%, val_loss: 0.13% - val_accuracy: 97.20%\n",
            "Epoch 10/10 | loss: 0.06% - accuracy: 98.50%, val_loss: 0.04% - val_accuracy: 98.88%\n",
            "Trening ukończony w: 377.9865539073944 sekund\n",
            "\n",
            "\u001b[32m---------------- Trening modelu AlexNet: 3/30000 ----------------\n",
            "\u001b[30m\n",
            "Epoch 1/10 | loss: 0.33% - accuracy: 89.46%, val_loss: 0.09% - val_accuracy: 97.78%\n",
            "Epoch 2/10 | loss: 0.11% - accuracy: 96.94%, val_loss: 0.07% - val_accuracy: 98.22%\n",
            "Epoch 3/10 | loss: 0.09% - accuracy: 97.55%, val_loss: 0.06% - val_accuracy: 98.32%\n",
            "Epoch 4/10 | loss: 0.09% - accuracy: 97.74%, val_loss: 0.07% - val_accuracy: 98.13%\n",
            "Epoch 5/10 | loss: 0.08% - accuracy: 97.91%, val_loss: 0.06% - val_accuracy: 98.68%\n",
            "Epoch 6/10 | loss: 0.07% - accuracy: 98.20%, val_loss: 0.07% - val_accuracy: 98.50%\n",
            "Epoch 7/10 | loss: 0.06% - accuracy: 98.51%, val_loss: 0.06% - val_accuracy: 98.87%\n",
            "Epoch 8/10 | loss: 0.06% - accuracy: 98.46%, val_loss: 0.08% - val_accuracy: 98.17%\n",
            "Epoch 9/10 | loss: 0.06% - accuracy: 98.52%, val_loss: 0.05% - val_accuracy: 98.75%\n",
            "Epoch 10/10 | loss: 0.05% - accuracy: 98.61%, val_loss: 0.06% - val_accuracy: 98.82%\n",
            "Trening ukończony w: 541.3683280944824 sekund\n",
            "\n",
            "\u001b[32m---------------- Trening modelu AlexNet: 4/40000 ----------------\n",
            "\u001b[30m\n",
            "Epoch 1/10 | loss: 0.39% - accuracy: 87.10%, val_loss: 0.08% - val_accuracy: 97.58%\n",
            "Epoch 2/10 | loss: 0.11% - accuracy: 96.87%, val_loss: 0.05% - val_accuracy: 98.76%\n",
            "Epoch 3/10 | loss: 0.09% - accuracy: 97.62%, val_loss: 0.07% - val_accuracy: 97.90%\n",
            "Epoch 4/10 | loss: 0.08% - accuracy: 97.80%, val_loss: 0.07% - val_accuracy: 97.78%\n",
            "Epoch 5/10 | loss: 0.07% - accuracy: 98.11%, val_loss: 0.08% - val_accuracy: 98.08%\n",
            "Epoch 6/10 | loss: 0.08% - accuracy: 97.98%, val_loss: 0.08% - val_accuracy: 98.08%\n",
            "Epoch 7/10 | loss: 0.08% - accuracy: 98.01%, val_loss: 0.05% - val_accuracy: 98.62%\n",
            "Epoch 8/10 | loss: 0.06% - accuracy: 98.40%, val_loss: 0.04% - val_accuracy: 99.09%\n",
            "Epoch 9/10 | loss: 0.05% - accuracy: 98.72%, val_loss: 0.04% - val_accuracy: 98.88%\n",
            "Epoch 10/10 | loss: 0.06% - accuracy: 98.53%, val_loss: 0.05% - val_accuracy: 98.85%\n",
            "Trening ukończony w: 691.3528182506561 sekund\n",
            "\n",
            "\u001b[32m---------------- Trening modelu AlexNet: 5/50000 ----------------\n",
            "\u001b[30m\n",
            "Epoch 1/10 | loss: 0.38% - accuracy: 88.45%, val_loss: 0.07% - val_accuracy: 98.25%\n",
            "Epoch 2/10 | loss: 0.10% - accuracy: 97.22%, val_loss: 0.06% - val_accuracy: 98.12%\n",
            "Epoch 3/10 | loss: 0.08% - accuracy: 97.78%, val_loss: 0.04% - val_accuracy: 98.86%\n",
            "Epoch 4/10 | loss: 0.07% - accuracy: 98.12%, val_loss: 0.05% - val_accuracy: 98.75%\n",
            "Epoch 5/10 | loss: 0.07% - accuracy: 98.17%, val_loss: 0.04% - val_accuracy: 98.93%\n",
            "Epoch 6/10 | loss: 0.06% - accuracy: 98.49%, val_loss: 0.05% - val_accuracy: 98.92%\n",
            "Epoch 7/10 | loss: 0.06% - accuracy: 98.52%, val_loss: 0.07% - val_accuracy: 98.41%\n",
            "Epoch 8/10 | loss: 0.06% - accuracy: 98.61%, val_loss: 0.04% - val_accuracy: 99.04%\n",
            "Epoch 9/10 | loss: 0.06% - accuracy: 98.61%, val_loss: 0.05% - val_accuracy: 98.81%\n",
            "Epoch 10/10 | loss: 0.05% - accuracy: 98.60%, val_loss: 0.05% - val_accuracy: 98.90%\n",
            "Trening ukończony w: 928.3262624740601 sekund\n",
            "\n",
            "\u001b[32m---------------- Trening modelu AlexNet: 6/60000 ----------------\n",
            "\u001b[30m\n",
            "Epoch 1/10 | loss: 0.26% - accuracy: 91.86%, val_loss: 0.06% - val_accuracy: 98.37%\n",
            "Epoch 2/10 | loss: 0.09% - accuracy: 97.63%, val_loss: 0.07% - val_accuracy: 98.13%\n",
            "Epoch 3/10 | loss: 0.07% - accuracy: 98.15%, val_loss: 0.06% - val_accuracy: 98.58%\n",
            "Epoch 4/10 | loss: 0.07% - accuracy: 98.11%, val_loss: 0.04% - val_accuracy: 98.99%\n",
            "Epoch 5/10 | loss: 0.06% - accuracy: 98.46%, val_loss: 0.07% - val_accuracy: 98.46%\n",
            "Epoch 6/10 | loss: 0.05% - accuracy: 98.83%, val_loss: 0.05% - val_accuracy: 98.68%\n",
            "Epoch 7/10 | loss: 0.06% - accuracy: 98.50%, val_loss: 0.06% - val_accuracy: 98.54%\n",
            "Epoch 8/10 | loss: 0.05% - accuracy: 98.80%, val_loss: 0.05% - val_accuracy: 98.88%\n",
            "Epoch 9/10 | loss: 0.05% - accuracy: 98.80%, val_loss: 0.03% - val_accuracy: 99.22%\n",
            "Epoch 10/10 | loss: 0.05% - accuracy: 98.83%, val_loss: 0.04% - val_accuracy: 99.05%\n",
            "Trening ukończony w: 1032.5237972736359 sekund\n",
            "\n",
            "\u001b[32m---------------- Trening modelu AlexNet: 7/70000 ----------------\n",
            "\u001b[30m\n",
            "Epoch 1/10 | loss: 0.63% - accuracy: 77.15%, val_loss: 0.08% - val_accuracy: 97.89%\n",
            "Epoch 2/10 | loss: 0.09% - accuracy: 97.70%, val_loss: 0.09% - val_accuracy: 98.01%\n",
            "Epoch 3/10 | loss: 0.07% - accuracy: 98.14%, val_loss: 0.05% - val_accuracy: 98.64%\n",
            "Epoch 4/10 | loss: 0.07% - accuracy: 98.19%, val_loss: 0.06% - val_accuracy: 98.82%\n",
            "Epoch 5/10 | loss: 0.06% - accuracy: 98.38%, val_loss: 0.04% - val_accuracy: 99.11%\n",
            "Epoch 6/10 | loss: 0.05% - accuracy: 98.64%, val_loss: 0.04% - val_accuracy: 98.96%\n",
            "Epoch 7/10 | loss: 0.06% - accuracy: 98.49%, val_loss: 0.04% - val_accuracy: 99.09%\n",
            "Epoch 8/10 | loss: 0.05% - accuracy: 98.74%, val_loss: 0.05% - val_accuracy: 98.89%\n",
            "Epoch 9/10 | loss: 0.05% - accuracy: 98.86%, val_loss: 0.05% - val_accuracy: 98.89%\n",
            "Epoch 10/10 | loss: 0.05% - accuracy: 98.64%, val_loss: 0.05% - val_accuracy: 98.95%\n",
            "Trening ukończony w: 1193.343844652176 sekund\n"
          ]
        }
      ],
      "source": [
        "from collections import defaultdict\n",
        "from torch.utils.data import DataLoader, Subset\n",
        "\n",
        "sizes = list(range(10000, 80000, 10000))\n",
        "output_data = defaultdict()\n",
        "\n",
        "for (i, size) in enumerate(sizes):\n",
        "\n",
        "    # Ustawienie ziarna dla reprodukowalności\n",
        "    set_seed(seeds[i])\n",
        "\n",
        "    # Podział danych w stosunku 80/20\n",
        "    indices = torch.randperm(len(combined_data))[:size]\n",
        "    combined_data_sliced = Subset(combined_data, indices)\n",
        "    train_dataset, validation_dataset = split_dataset(combined_data_sliced)\n",
        "\n",
        "    # Utworzenie Data Loaders dla zestawu treningowego i testowego\n",
        "    train_loader = DataLoader(train_dataset, batch_size=64, shuffle=True)\n",
        "    val_loader = DataLoader(validation_dataset, batch_size=64, shuffle=True)\n",
        "\n",
        "    # Utworzenie modelu AlexNet\n",
        "    model, criterion, optimizer = create_alexnet_model()\n",
        "\n",
        "    # Trening model\n",
        "    print(f'\\n{Fore.GREEN}---------------- Trening modelu AlexNet: {i+1}/{size} ----------------\\n{Fore.BLACK}')\n",
        "\n",
        "    start_time = time.time()\n",
        "    output_dict = train_alexnet_on_mnist(train_loader, val_loader)\n",
        "    end_time = time.time()\n",
        "\n",
        "    training_time = end_time - start_time\n",
        "    print(f'Trening ukończony w: {training_time} sekund')\n",
        "\n",
        "    output_data[size] = [training_time]\n",
        "    for i in output_dict: output_data[size].append(i)\n",
        "\n",
        "    del indices, combined_data_sliced, train_loader, val_loader, model"
      ]
    },
    {
      "cell_type": "code",
      "source": [
        "# Convert results to a pandas DataFrame\n",
        "results_df = create_df(output_data)\n",
        "results_df"
      ],
      "metadata": {
        "id": "naWWZPYVi4Ox",
        "colab": {
          "base_uri": "https://localhost:8080/",
          "height": 206
        },
        "outputId": "da92c78c-75be-4d46-a57c-f7053918db0c"
      },
      "execution_count": null,
      "outputs": [
        {
          "output_type": "execute_result",
          "data": {
            "text/plain": [
              "                             10000       20000       30000       40000  \\\n",
              "Czas treningu           187.227523  377.986554  541.368328  691.352818   \n",
              "Dokładność treningowa    97.962500   98.500000   98.608333   98.534375   \n",
              "Dokładność walidacyjna   97.900000   98.875000   98.816667   98.850000   \n",
              "Strata treningowa         0.073099    0.062864    0.054470    0.061069   \n",
              "Strata walidacyjna        0.083423    0.040918    0.059498    0.052216   \n",
              "\n",
              "                             50000        60000        70000  \n",
              "Czas treningu           928.326262  1032.523797  1193.343845  \n",
              "Dokładność treningowa    98.602500    98.827083    98.639286  \n",
              "Dokładność walidacyjna   98.900000    99.050000    98.950000  \n",
              "Strata treningowa         0.053837     0.047851     0.053892  \n",
              "Strata walidacyjna        0.048604     0.038953     0.052289  "
            ],
            "text/html": [
              "\n",
              "  <div id=\"df-3a3a57cf-304b-4fe9-8bcf-55d16ddf73c3\" class=\"colab-df-container\">\n",
              "    <div>\n",
              "<style scoped>\n",
              "    .dataframe tbody tr th:only-of-type {\n",
              "        vertical-align: middle;\n",
              "    }\n",
              "\n",
              "    .dataframe tbody tr th {\n",
              "        vertical-align: top;\n",
              "    }\n",
              "\n",
              "    .dataframe thead th {\n",
              "        text-align: right;\n",
              "    }\n",
              "</style>\n",
              "<table border=\"1\" class=\"dataframe\">\n",
              "  <thead>\n",
              "    <tr style=\"text-align: right;\">\n",
              "      <th></th>\n",
              "      <th>10000</th>\n",
              "      <th>20000</th>\n",
              "      <th>30000</th>\n",
              "      <th>40000</th>\n",
              "      <th>50000</th>\n",
              "      <th>60000</th>\n",
              "      <th>70000</th>\n",
              "    </tr>\n",
              "  </thead>\n",
              "  <tbody>\n",
              "    <tr>\n",
              "      <th>Czas treningu</th>\n",
              "      <td>187.227523</td>\n",
              "      <td>377.986554</td>\n",
              "      <td>541.368328</td>\n",
              "      <td>691.352818</td>\n",
              "      <td>928.326262</td>\n",
              "      <td>1032.523797</td>\n",
              "      <td>1193.343845</td>\n",
              "    </tr>\n",
              "    <tr>\n",
              "      <th>Dokładność treningowa</th>\n",
              "      <td>97.962500</td>\n",
              "      <td>98.500000</td>\n",
              "      <td>98.608333</td>\n",
              "      <td>98.534375</td>\n",
              "      <td>98.602500</td>\n",
              "      <td>98.827083</td>\n",
              "      <td>98.639286</td>\n",
              "    </tr>\n",
              "    <tr>\n",
              "      <th>Dokładność walidacyjna</th>\n",
              "      <td>97.900000</td>\n",
              "      <td>98.875000</td>\n",
              "      <td>98.816667</td>\n",
              "      <td>98.850000</td>\n",
              "      <td>98.900000</td>\n",
              "      <td>99.050000</td>\n",
              "      <td>98.950000</td>\n",
              "    </tr>\n",
              "    <tr>\n",
              "      <th>Strata treningowa</th>\n",
              "      <td>0.073099</td>\n",
              "      <td>0.062864</td>\n",
              "      <td>0.054470</td>\n",
              "      <td>0.061069</td>\n",
              "      <td>0.053837</td>\n",
              "      <td>0.047851</td>\n",
              "      <td>0.053892</td>\n",
              "    </tr>\n",
              "    <tr>\n",
              "      <th>Strata walidacyjna</th>\n",
              "      <td>0.083423</td>\n",
              "      <td>0.040918</td>\n",
              "      <td>0.059498</td>\n",
              "      <td>0.052216</td>\n",
              "      <td>0.048604</td>\n",
              "      <td>0.038953</td>\n",
              "      <td>0.052289</td>\n",
              "    </tr>\n",
              "  </tbody>\n",
              "</table>\n",
              "</div>\n",
              "    <div class=\"colab-df-buttons\">\n",
              "\n",
              "  <div class=\"colab-df-container\">\n",
              "    <button class=\"colab-df-convert\" onclick=\"convertToInteractive('df-3a3a57cf-304b-4fe9-8bcf-55d16ddf73c3')\"\n",
              "            title=\"Convert this dataframe to an interactive table.\"\n",
              "            style=\"display:none;\">\n",
              "\n",
              "  <svg xmlns=\"http://www.w3.org/2000/svg\" height=\"24px\" viewBox=\"0 -960 960 960\">\n",
              "    <path d=\"M120-120v-720h720v720H120Zm60-500h600v-160H180v160Zm220 220h160v-160H400v160Zm0 220h160v-160H400v160ZM180-400h160v-160H180v160Zm440 0h160v-160H620v160ZM180-180h160v-160H180v160Zm440 0h160v-160H620v160Z\"/>\n",
              "  </svg>\n",
              "    </button>\n",
              "\n",
              "  <style>\n",
              "    .colab-df-container {\n",
              "      display:flex;\n",
              "      gap: 12px;\n",
              "    }\n",
              "\n",
              "    .colab-df-convert {\n",
              "      background-color: #E8F0FE;\n",
              "      border: none;\n",
              "      border-radius: 50%;\n",
              "      cursor: pointer;\n",
              "      display: none;\n",
              "      fill: #1967D2;\n",
              "      height: 32px;\n",
              "      padding: 0 0 0 0;\n",
              "      width: 32px;\n",
              "    }\n",
              "\n",
              "    .colab-df-convert:hover {\n",
              "      background-color: #E2EBFA;\n",
              "      box-shadow: 0px 1px 2px rgba(60, 64, 67, 0.3), 0px 1px 3px 1px rgba(60, 64, 67, 0.15);\n",
              "      fill: #174EA6;\n",
              "    }\n",
              "\n",
              "    .colab-df-buttons div {\n",
              "      margin-bottom: 4px;\n",
              "    }\n",
              "\n",
              "    [theme=dark] .colab-df-convert {\n",
              "      background-color: #3B4455;\n",
              "      fill: #D2E3FC;\n",
              "    }\n",
              "\n",
              "    [theme=dark] .colab-df-convert:hover {\n",
              "      background-color: #434B5C;\n",
              "      box-shadow: 0px 1px 3px 1px rgba(0, 0, 0, 0.15);\n",
              "      filter: drop-shadow(0px 1px 2px rgba(0, 0, 0, 0.3));\n",
              "      fill: #FFFFFF;\n",
              "    }\n",
              "  </style>\n",
              "\n",
              "    <script>\n",
              "      const buttonEl =\n",
              "        document.querySelector('#df-3a3a57cf-304b-4fe9-8bcf-55d16ddf73c3 button.colab-df-convert');\n",
              "      buttonEl.style.display =\n",
              "        google.colab.kernel.accessAllowed ? 'block' : 'none';\n",
              "\n",
              "      async function convertToInteractive(key) {\n",
              "        const element = document.querySelector('#df-3a3a57cf-304b-4fe9-8bcf-55d16ddf73c3');\n",
              "        const dataTable =\n",
              "          await google.colab.kernel.invokeFunction('convertToInteractive',\n",
              "                                                    [key], {});\n",
              "        if (!dataTable) return;\n",
              "\n",
              "        const docLinkHtml = 'Like what you see? Visit the ' +\n",
              "          '<a target=\"_blank\" href=https://colab.research.google.com/notebooks/data_table.ipynb>data table notebook</a>'\n",
              "          + ' to learn more about interactive tables.';\n",
              "        element.innerHTML = '';\n",
              "        dataTable['output_type'] = 'display_data';\n",
              "        await google.colab.output.renderOutput(dataTable, element);\n",
              "        const docLink = document.createElement('div');\n",
              "        docLink.innerHTML = docLinkHtml;\n",
              "        element.appendChild(docLink);\n",
              "      }\n",
              "    </script>\n",
              "  </div>\n",
              "\n",
              "\n",
              "<div id=\"df-997c1155-9213-49cb-ae20-ccb02a78289a\">\n",
              "  <button class=\"colab-df-quickchart\" onclick=\"quickchart('df-997c1155-9213-49cb-ae20-ccb02a78289a')\"\n",
              "            title=\"Suggest charts\"\n",
              "            style=\"display:none;\">\n",
              "\n",
              "<svg xmlns=\"http://www.w3.org/2000/svg\" height=\"24px\"viewBox=\"0 0 24 24\"\n",
              "     width=\"24px\">\n",
              "    <g>\n",
              "        <path d=\"M19 3H5c-1.1 0-2 .9-2 2v14c0 1.1.9 2 2 2h14c1.1 0 2-.9 2-2V5c0-1.1-.9-2-2-2zM9 17H7v-7h2v7zm4 0h-2V7h2v10zm4 0h-2v-4h2v4z\"/>\n",
              "    </g>\n",
              "</svg>\n",
              "  </button>\n",
              "\n",
              "<style>\n",
              "  .colab-df-quickchart {\n",
              "      --bg-color: #E8F0FE;\n",
              "      --fill-color: #1967D2;\n",
              "      --hover-bg-color: #E2EBFA;\n",
              "      --hover-fill-color: #174EA6;\n",
              "      --disabled-fill-color: #AAA;\n",
              "      --disabled-bg-color: #DDD;\n",
              "  }\n",
              "\n",
              "  [theme=dark] .colab-df-quickchart {\n",
              "      --bg-color: #3B4455;\n",
              "      --fill-color: #D2E3FC;\n",
              "      --hover-bg-color: #434B5C;\n",
              "      --hover-fill-color: #FFFFFF;\n",
              "      --disabled-bg-color: #3B4455;\n",
              "      --disabled-fill-color: #666;\n",
              "  }\n",
              "\n",
              "  .colab-df-quickchart {\n",
              "    background-color: var(--bg-color);\n",
              "    border: none;\n",
              "    border-radius: 50%;\n",
              "    cursor: pointer;\n",
              "    display: none;\n",
              "    fill: var(--fill-color);\n",
              "    height: 32px;\n",
              "    padding: 0;\n",
              "    width: 32px;\n",
              "  }\n",
              "\n",
              "  .colab-df-quickchart:hover {\n",
              "    background-color: var(--hover-bg-color);\n",
              "    box-shadow: 0 1px 2px rgba(60, 64, 67, 0.3), 0 1px 3px 1px rgba(60, 64, 67, 0.15);\n",
              "    fill: var(--button-hover-fill-color);\n",
              "  }\n",
              "\n",
              "  .colab-df-quickchart-complete:disabled,\n",
              "  .colab-df-quickchart-complete:disabled:hover {\n",
              "    background-color: var(--disabled-bg-color);\n",
              "    fill: var(--disabled-fill-color);\n",
              "    box-shadow: none;\n",
              "  }\n",
              "\n",
              "  .colab-df-spinner {\n",
              "    border: 2px solid var(--fill-color);\n",
              "    border-color: transparent;\n",
              "    border-bottom-color: var(--fill-color);\n",
              "    animation:\n",
              "      spin 1s steps(1) infinite;\n",
              "  }\n",
              "\n",
              "  @keyframes spin {\n",
              "    0% {\n",
              "      border-color: transparent;\n",
              "      border-bottom-color: var(--fill-color);\n",
              "      border-left-color: var(--fill-color);\n",
              "    }\n",
              "    20% {\n",
              "      border-color: transparent;\n",
              "      border-left-color: var(--fill-color);\n",
              "      border-top-color: var(--fill-color);\n",
              "    }\n",
              "    30% {\n",
              "      border-color: transparent;\n",
              "      border-left-color: var(--fill-color);\n",
              "      border-top-color: var(--fill-color);\n",
              "      border-right-color: var(--fill-color);\n",
              "    }\n",
              "    40% {\n",
              "      border-color: transparent;\n",
              "      border-right-color: var(--fill-color);\n",
              "      border-top-color: var(--fill-color);\n",
              "    }\n",
              "    60% {\n",
              "      border-color: transparent;\n",
              "      border-right-color: var(--fill-color);\n",
              "    }\n",
              "    80% {\n",
              "      border-color: transparent;\n",
              "      border-right-color: var(--fill-color);\n",
              "      border-bottom-color: var(--fill-color);\n",
              "    }\n",
              "    90% {\n",
              "      border-color: transparent;\n",
              "      border-bottom-color: var(--fill-color);\n",
              "    }\n",
              "  }\n",
              "</style>\n",
              "\n",
              "  <script>\n",
              "    async function quickchart(key) {\n",
              "      const quickchartButtonEl =\n",
              "        document.querySelector('#' + key + ' button');\n",
              "      quickchartButtonEl.disabled = true;  // To prevent multiple clicks.\n",
              "      quickchartButtonEl.classList.add('colab-df-spinner');\n",
              "      try {\n",
              "        const charts = await google.colab.kernel.invokeFunction(\n",
              "            'suggestCharts', [key], {});\n",
              "      } catch (error) {\n",
              "        console.error('Error during call to suggestCharts:', error);\n",
              "      }\n",
              "      quickchartButtonEl.classList.remove('colab-df-spinner');\n",
              "      quickchartButtonEl.classList.add('colab-df-quickchart-complete');\n",
              "    }\n",
              "    (() => {\n",
              "      let quickchartButtonEl =\n",
              "        document.querySelector('#df-997c1155-9213-49cb-ae20-ccb02a78289a button');\n",
              "      quickchartButtonEl.style.display =\n",
              "        google.colab.kernel.accessAllowed ? 'block' : 'none';\n",
              "    })();\n",
              "  </script>\n",
              "</div>\n",
              "    </div>\n",
              "  </div>\n"
            ],
            "application/vnd.google.colaboratory.intrinsic+json": {
              "type": "dataframe",
              "variable_name": "results_df",
              "summary": "{\n  \"name\": \"results_df\",\n  \"rows\": 5,\n  \"fields\": [\n    {\n      \"column\": 10000,\n      \"properties\": {\n        \"dtype\": \"number\",\n        \"std\": 78.83469449889886,\n        \"min\": 0.073099,\n        \"max\": 187.227523,\n        \"num_unique_values\": 5,\n        \"samples\": [\n          97.9625,\n          0.083423,\n          97.9\n        ],\n        \"semantic_type\": \"\",\n        \"description\": \"\"\n      }\n    },\n    {\n      \"column\": 20000,\n      \"properties\": {\n        \"dtype\": \"number\",\n        \"std\": 155.01635854680111,\n        \"min\": 0.040918,\n        \"max\": 377.986554,\n        \"num_unique_values\": 5,\n        \"samples\": [\n          98.5,\n          0.040918,\n          98.875\n        ],\n        \"semantic_type\": \"\",\n        \"description\": \"\"\n      }\n    },\n    {\n      \"column\": 30000,\n      \"properties\": {\n        \"dtype\": \"number\",\n        \"std\": 225.48348701519694,\n        \"min\": 0.05447,\n        \"max\": 541.368328,\n        \"num_unique_values\": 5,\n        \"samples\": [\n          98.608333,\n          0.059498,\n          98.816667\n        ],\n        \"semantic_type\": \"\",\n        \"description\": \"\"\n      }\n    },\n    {\n      \"column\": 40000,\n      \"properties\": {\n        \"dtype\": \"number\",\n        \"std\": 291.3065552476246,\n        \"min\": 0.052216,\n        \"max\": 691.352818,\n        \"num_unique_values\": 5,\n        \"samples\": [\n          98.534375,\n          0.052216,\n          98.85\n        ],\n        \"semantic_type\": \"\",\n        \"description\": \"\"\n      }\n    },\n    {\n      \"column\": 50000,\n      \"properties\": {\n        \"dtype\": \"number\",\n        \"std\": 396.1530961030434,\n        \"min\": 0.048604,\n        \"max\": 928.326262,\n        \"num_unique_values\": 5,\n        \"samples\": [\n          98.6025,\n          0.048604,\n          98.9\n        ],\n        \"semantic_type\": \"\",\n        \"description\": \"\"\n      }\n    },\n    {\n      \"column\": 60000,\n      \"properties\": {\n        \"dtype\": \"number\",\n        \"std\": 442.3977570912583,\n        \"min\": 0.038953,\n        \"max\": 1032.523797,\n        \"num_unique_values\": 5,\n        \"samples\": [\n          98.827083,\n          0.038953,\n          99.05\n        ],\n        \"semantic_type\": \"\",\n        \"description\": \"\"\n      }\n    },\n    {\n      \"column\": 70000,\n      \"properties\": {\n        \"dtype\": \"number\",\n        \"std\": 513.9533723438767,\n        \"min\": 0.052289,\n        \"max\": 1193.343845,\n        \"num_unique_values\": 5,\n        \"samples\": [\n          98.639286,\n          0.052289,\n          98.95\n        ],\n        \"semantic_type\": \"\",\n        \"description\": \"\"\n      }\n    }\n  ]\n}"
            }
          },
          "metadata": {},
          "execution_count": 7
        }
      ]
    },
    {
      "cell_type": "code",
      "source": [
        "plot_results(results_df)"
      ],
      "metadata": {
        "id": "JVkeDZJRshZp",
        "colab": {
          "base_uri": "https://localhost:8080/",
          "height": 565
        },
        "outputId": "280eb63d-4e2d-4cc9-93a3-a92d59e8186c"
      },
      "execution_count": null,
      "outputs": [
        {
          "output_type": "display_data",
          "data": {
            "text/plain": [
              "<Figure size 1000x600 with 1 Axes>"
            ],
            "image/png": "[encoded data removed]"
          },
          "metadata": {}
        }
      ]
    },
    {
      "cell_type": "markdown",
      "source": [
        "#Ilośc epok"
      ],
      "metadata": {
        "id": "x5Zi62DkwPoG"
      }
    },
    {
      "cell_type": "code",
      "source": [
        "SIZE = 30000\n",
        "EPOCHS = 50"
      ],
      "metadata": {
        "id": "aUjiZ181FmSF"
      },
      "execution_count": null,
      "outputs": []
    },
    {
      "cell_type": "code",
      "source": [
        "# Ustawienie ziarna dla reprodukowalności\n",
        "set_seed(42)\n",
        "\n",
        "# Podział danych w stosunku 80/20\n",
        "indices = torch.randperm(len(combined_data))[:SIZE]\n",
        "combined_data_sliced = Subset(combined_data, indices)\n",
        "train_dataset, validation_dataset = split_dataset(combined_data_sliced)\n",
        "\n",
        "# Utworzenie Data Loaders dla zestawu treningowego i testowego\n",
        "train_loader = DataLoader(train_dataset, batch_size=64, shuffle=True)\n",
        "val_loader = DataLoader(validation_dataset, batch_size=64, shuffle=True)\n",
        "\n",
        "# Utworzenie modelu AlexNet\n",
        "model, criterion, optimizer = create_alexnet_model()\n",
        "\n",
        "# Trening model\n",
        "print(f'\\n{Fore.GREEN}---------------- Trening modelu AlexNet na 50 epokach ----------------\\n{Fore.BLACK}')\n",
        "\n",
        "start_time = time.time()\n",
        "results = train_alexnet_on_mnist(train_loader, val_loader, EPOCHS)\n",
        "end_time = time.time()\n",
        "\n",
        "training_time = end_time - start_time\n",
        "print(f'Trening ukończony w: {training_time} sekund')"
      ],
      "metadata": {
        "id": "FWY2_G5HwOxP",
        "colab": {
          "base_uri": "https://localhost:8080/"
        },
        "outputId": "4305cc51-ee71-48b2-93d1-b4e0a591a681"
      },
      "execution_count": null,
      "outputs": [
        {
          "output_type": "stream",
          "name": "stdout",
          "text": [
            "\n",
            "\u001b[32m---------------- Trening modelu AlexNet na 50 epokach ----------------\n",
            "\u001b[30m\n",
            "Epoch 1/50 | loss: 0.32% - accuracy: 89.70%, val_loss: 0.09% - val_accuracy: 97.80%\n",
            "Epoch 2/50 | loss: 0.10% - accuracy: 97.04%, val_loss: 0.06% - val_accuracy: 98.48%\n",
            "Epoch 3/50 | loss: 0.08% - accuracy: 97.84%, val_loss: 0.08% - val_accuracy: 98.00%\n",
            "Epoch 4/50 | loss: 0.08% - accuracy: 97.89%, val_loss: 0.07% - val_accuracy: 98.08%\n",
            "Epoch 5/50 | loss: 0.07% - accuracy: 98.25%, val_loss: 0.06% - val_accuracy: 98.60%\n",
            "Epoch 6/50 | loss: 0.06% - accuracy: 98.33%, val_loss: 0.06% - val_accuracy: 98.58%\n",
            "Epoch 7/50 | loss: 0.06% - accuracy: 98.30%, val_loss: 0.09% - val_accuracy: 98.18%\n",
            "Epoch 8/50 | loss: 0.06% - accuracy: 98.55%, val_loss: 0.04% - val_accuracy: 98.82%\n",
            "Epoch 9/50 | loss: 0.05% - accuracy: 98.75%, val_loss: 0.05% - val_accuracy: 99.05%\n",
            "Epoch 10/50 | loss: 0.05% - accuracy: 98.89%, val_loss: 0.08% - val_accuracy: 98.40%\n",
            "Epoch 11/50 | loss: 0.05% - accuracy: 98.81%, val_loss: 0.06% - val_accuracy: 98.65%\n",
            "Epoch 12/50 | loss: 0.05% - accuracy: 98.82%, val_loss: 0.09% - val_accuracy: 98.17%\n",
            "Epoch 13/50 | loss: 0.06% - accuracy: 98.62%, val_loss: 0.06% - val_accuracy: 98.92%\n",
            "Epoch 14/50 | loss: 0.04% - accuracy: 99.07%, val_loss: 0.13% - val_accuracy: 97.78%\n",
            "Epoch 15/50 | loss: 0.03% - accuracy: 99.12%, val_loss: 0.05% - val_accuracy: 99.07%\n",
            "Epoch 16/50 | loss: 0.04% - accuracy: 98.93%, val_loss: 0.04% - val_accuracy: 99.10%\n",
            "Epoch 17/50 | loss: 0.04% - accuracy: 99.00%, val_loss: 0.11% - val_accuracy: 98.32%\n",
            "Epoch 18/50 | loss: 0.05% - accuracy: 98.84%, val_loss: 0.07% - val_accuracy: 99.02%\n",
            "Epoch 19/50 | loss: 0.03% - accuracy: 99.21%, val_loss: 0.06% - val_accuracy: 98.95%\n",
            "Epoch 20/50 | loss: 0.05% - accuracy: 98.98%, val_loss: 0.06% - val_accuracy: 98.85%\n",
            "Epoch 21/50 | loss: 0.04% - accuracy: 99.06%, val_loss: 0.04% - val_accuracy: 99.17%\n",
            "Epoch 22/50 | loss: 0.04% - accuracy: 99.07%, val_loss: 0.06% - val_accuracy: 98.67%\n",
            "Epoch 23/50 | loss: 0.03% - accuracy: 99.12%, val_loss: 0.06% - val_accuracy: 99.03%\n",
            "Epoch 24/50 | loss: 0.03% - accuracy: 99.24%, val_loss: 0.05% - val_accuracy: 99.17%\n",
            "Epoch 25/50 | loss: 0.03% - accuracy: 99.22%, val_loss: 0.05% - val_accuracy: 99.10%\n",
            "Epoch 26/50 | loss: 0.04% - accuracy: 99.17%, val_loss: 0.05% - val_accuracy: 99.25%\n",
            "Epoch 27/50 | loss: 0.03% - accuracy: 99.33%, val_loss: 0.07% - val_accuracy: 98.95%\n",
            "Epoch 28/50 | loss: 0.04% - accuracy: 99.16%, val_loss: 0.06% - val_accuracy: 99.13%\n",
            "Epoch 29/50 | loss: 0.02% - accuracy: 99.46%, val_loss: 0.07% - val_accuracy: 99.22%\n",
            "Epoch 30/50 | loss: 0.03% - accuracy: 99.33%, val_loss: 0.06% - val_accuracy: 99.13%\n",
            "Epoch 31/50 | loss: 0.04% - accuracy: 99.28%, val_loss: 0.05% - val_accuracy: 99.07%\n",
            "Epoch 32/50 | loss: 0.03% - accuracy: 99.39%, val_loss: 0.05% - val_accuracy: 99.20%\n",
            "Epoch 33/50 | loss: 0.02% - accuracy: 99.47%, val_loss: 0.05% - val_accuracy: 99.13%\n",
            "Epoch 34/50 | loss: 0.04% - accuracy: 99.18%, val_loss: 0.05% - val_accuracy: 99.12%\n",
            "Epoch 35/50 | loss: 0.03% - accuracy: 99.31%, val_loss: 0.08% - val_accuracy: 98.62%\n",
            "Epoch 36/50 | loss: 0.03% - accuracy: 99.40%, val_loss: 0.08% - val_accuracy: 98.65%\n",
            "Epoch 37/50 | loss: 0.03% - accuracy: 99.26%, val_loss: 0.09% - val_accuracy: 99.00%\n",
            "Epoch 38/50 | loss: 0.05% - accuracy: 98.98%, val_loss: 0.14% - val_accuracy: 98.88%\n",
            "Epoch 39/50 | loss: 0.03% - accuracy: 99.33%, val_loss: 0.09% - val_accuracy: 99.08%\n",
            "Epoch 40/50 | loss: 0.03% - accuracy: 99.43%, val_loss: 0.06% - val_accuracy: 99.05%\n",
            "Epoch 41/50 | loss: 0.03% - accuracy: 99.41%, val_loss: 0.07% - val_accuracy: 98.87%\n",
            "Epoch 42/50 | loss: 0.03% - accuracy: 99.43%, val_loss: 0.11% - val_accuracy: 98.80%\n",
            "Epoch 43/50 | loss: 0.03% - accuracy: 99.30%, val_loss: 0.11% - val_accuracy: 99.10%\n",
            "Epoch 44/50 | loss: 0.03% - accuracy: 99.40%, val_loss: 0.09% - val_accuracy: 98.80%\n",
            "Epoch 45/50 | loss: 0.03% - accuracy: 99.49%, val_loss: 0.12% - val_accuracy: 98.92%\n",
            "Epoch 46/50 | loss: 0.04% - accuracy: 99.26%, val_loss: 0.11% - val_accuracy: 98.92%\n",
            "Epoch 47/50 | loss: 0.02% - accuracy: 99.65%, val_loss: 0.06% - val_accuracy: 99.15%\n",
            "Epoch 48/50 | loss: 0.04% - accuracy: 99.24%, val_loss: 0.06% - val_accuracy: 98.87%\n",
            "Epoch 49/50 | loss: 0.03% - accuracy: 99.34%, val_loss: 0.07% - val_accuracy: 99.22%\n",
            "Epoch 50/50 | loss: 0.02% - accuracy: 99.66%, val_loss: 0.07% - val_accuracy: 99.10%\n",
            "Trening ukończony w: 2801.0625517368317 sekund\n"
          ]
        }
      ]
    },
    {
      "cell_type": "code",
      "source": [
        "from collections import defaultdict\n",
        "\n",
        "metrics = defaultdict(list)\n",
        "for val in results.values():\n",
        "  metrics['accuracy'].append(val[0])\n",
        "  metrics['val_accuracy'].append(val[1])\n",
        "  metrics['loss'].append(val[2])\n",
        "  metrics['val_loss'].append(val[3])"
      ],
      "metadata": {
        "id": "M7E9nrEukawK"
      },
      "execution_count": null,
      "outputs": []
    },
    {
      "cell_type": "code",
      "source": [
        "plot_accuracy_and_loss(metrics)"
      ],
      "metadata": {
        "colab": {
          "base_uri": "https://localhost:8080/",
          "height": 607
        },
        "id": "LVaNvSGSS0Hk",
        "outputId": "1c8f2ba3-c1a0-46f1-db3b-542c112ed45c"
      },
      "execution_count": null,
      "outputs": [
        {
          "output_type": "display_data",
          "data": {
            "text/plain": [
              "<Figure size 800x600 with 2 Axes>"
            ],
            "image/png": "[encoded data removed]"
          },
          "metadata": {}
        }
      ]
    }
  ],
  "metadata": {
    "accelerator": "GPU",
    "colab": {
      "gpuType": "T4",
      "machine_shape": "hm",
      "provenance": [],
      "toc_visible": true
    },
    "kernelspec": {
      "display_name": "Python 3",
      "name": "python3"
    },
    "language_info": {
      "name": "python"
    }
  },
  "nbformat": 4,
  "nbformat_minor": 0
}